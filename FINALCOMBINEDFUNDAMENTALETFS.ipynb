version https://git-lfs.github.com/spec/v1
oid sha256:167d42d421343992fe0ebcb28ccf15e9f9824cbb8706390e621ccf0ea7f544ab
size 13318429
